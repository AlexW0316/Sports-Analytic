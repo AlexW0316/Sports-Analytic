{
  "nbformat": 4,
  "nbformat_minor": 0,
  "metadata": {
    "colab": {
      "provenance": [],
      "include_colab_link": true
    },
    "kernelspec": {
      "name": "python3",
      "display_name": "Python 3"
    },
    "language_info": {
      "name": "python"
    }
  },
  "cells": [
    {
      "cell_type": "markdown",
      "metadata": {
        "id": "view-in-github",
        "colab_type": "text"
      },
      "source": [
        "<a href=\"https://colab.research.google.com/github/AlexW0316/Sports-Analytics/blob/main/Copy_of_My_Elo_model.ipynb\" target=\"_parent\"><img src=\"https://colab.research.google.com/assets/colab-badge.svg\" alt=\"Open In Colab\"/></a>"
      ]
    },
    {
      "cell_type": "code",
      "execution_count": null,
      "metadata": {
        "id": "C2E-eWSeRuNy"
      },
      "outputs": [],
      "source": [
        "import numpy as np\n",
        "import pandas as pd"
      ]
    },
    {
      "cell_type": "code",
      "source": [
        "#Links to your google drive\n",
        "from google.colab import drive\n",
        "drive.mount('/content/drive')\n",
        "\n",
        "#Imports data.csv to a pandas \"dataframe\"\n",
        "df=pd.read_csv('/content/drive/MyDrive/Sports Analytics/Data/2019.csv')"
      ],
      "metadata": {
        "colab": {
          "base_uri": "https://localhost:8080/"
        },
        "id": "0aEMA5AkR0lS",
        "outputId": "351d7b27-f446-491b-fd16-38ec4a144a9a"
      },
      "execution_count": null,
      "outputs": [
        {
          "output_type": "stream",
          "name": "stdout",
          "text": [
            "Mounted at /content/drive\n"
          ]
        }
      ]
    },
    {
      "cell_type": "code",
      "source": [
        "#The first row\n",
        "print(df.iloc[0])\n",
        "\n",
        "df.iloc[0]['home_points']"
      ],
      "metadata": {
        "colab": {
          "base_uri": "https://localhost:8080/"
        },
        "id": "0DpIVijZSFy0",
        "outputId": "97efce43-e055-4a78-8a12-5ff78fc7a81c"
      },
      "execution_count": null,
      "outputs": [
        {
          "output_type": "stream",
          "name": "stdout",
          "text": [
            "id                                                       401110723\n",
            "season                                                        2019\n",
            "week                                                             1\n",
            "season_type                                                regular\n",
            "start_date                                2019-08-24T23:00:00.000Z\n",
            "start_time_tbd                                                 NaN\n",
            "neutral_site                                                  True\n",
            "conference_game                                              False\n",
            "attendance                                                 66543.0\n",
            "venue_id                                                      4013\n",
            "venue                                        Camping World Stadium\n",
            "home_id                                                         57\n",
            "home_team                                                  Florida\n",
            "home_conference                                                SEC\n",
            "home_points                                                     24\n",
            "home_line_scores[0]                                              7\n",
            "home_line_scores[1]                                              0\n",
            "home_line_scores[2]                                             10\n",
            "home_line_scores[3]                                              7\n",
            "home_post_win_prob                                        0.905953\n",
            "home_pregame_elo                                            1683.0\n",
            "home_postgame_elo                                           1688.0\n",
            "away_id                                                       2390\n",
            "away_team                                                    Miami\n",
            "away_conference                                                ACC\n",
            "away_points                                                     20\n",
            "away_line_scores[0]                                              3\n",
            "away_line_scores[1]                                             10\n",
            "away_line_scores[2]                                              0\n",
            "away_line_scores[3]                                              7\n",
            "away_post_win_prob                                        0.094047\n",
            "away_pregame_elo                                            1611.0\n",
            "away_postgame_elo                                           1606.0\n",
            "excitement_index                                           8.76791\n",
            "highlights             https://www.youtube.com/watch?v=WeJi4p0jqXA\n",
            "notes                                        CAMPING WORLD KICKOFF\n",
            "Name: 0, dtype: object\n"
          ]
        },
        {
          "output_type": "execute_result",
          "data": {
            "text/plain": [
              "24"
            ]
          },
          "metadata": {},
          "execution_count": 3
        }
      ]
    },
    {
      "cell_type": "code",
      "source": [
        "#Links to your google drive\n",
        "from google.colab import drive\n",
        "drive.mount('/content/drive')\n",
        "\n",
        "#Imports data.csv to a pandas \"dataframe\"\n",
        "df2=pd.read_csv('/content/drive/MyDrive/Sports Analytics/Data/FBS_data.csv')\n",
        "#df2"
      ],
      "metadata": {
        "colab": {
          "base_uri": "https://localhost:8080/"
        },
        "id": "fAekjgNOaNK0",
        "outputId": "af91c8a8-9082-400f-c07e-f0e506ae0c1c"
      },
      "execution_count": null,
      "outputs": [
        {
          "output_type": "stream",
          "name": "stdout",
          "text": [
            "Drive already mounted at /content/drive; to attempt to forcibly remount, call drive.mount(\"/content/drive\", force_remount=True).\n"
          ]
        }
      ]
    },
    {
      "cell_type": "code",
      "source": [
        "name = df2.loc[:,\"school\"]\n",
        "name = name.tolist()\n",
        "#name"
      ],
      "metadata": {
        "id": "rkyKX2B2aVTI"
      },
      "execution_count": null,
      "outputs": []
    },
    {
      "cell_type": "markdown",
      "source": [
        "logistic to test: randomly picked some matches.\n",
        "After week 4 < 14"
      ],
      "metadata": {
        "id": "KMAuQ5IJYeR7"
      }
    },
    {
      "cell_type": "code",
      "source": [
        "#Let's build a table to store ELO scores\n",
        "elo_table=pd.DataFrame(np.zeros(shape=(len(name),16)))\n",
        "elo_table.index=name\n",
        "for i in range(16):\n",
        "  elo_table[i]=1000 #initialize with 1000\n",
        "#elo_table.loc[(\"Air Force\",0)]=1200\n",
        "print(elo_table)"
      ],
      "metadata": {
        "colab": {
          "base_uri": "https://localhost:8080/"
        },
        "id": "y_wNHDvRLShv",
        "outputId": "a2f88464-cf1e-4813-e206-46d11d31539d"
      },
      "execution_count": null,
      "outputs": [
        {
          "output_type": "stream",
          "name": "stdout",
          "text": [
            "                     0     1     2     3     4   ...    11    12    13    14    15\n",
            "Air Force          1000  1000  1000  1000  1000  ...  1000  1000  1000  1000  1000\n",
            "Akron              1000  1000  1000  1000  1000  ...  1000  1000  1000  1000  1000\n",
            "Alabama            1000  1000  1000  1000  1000  ...  1000  1000  1000  1000  1000\n",
            "Appalachian State  1000  1000  1000  1000  1000  ...  1000  1000  1000  1000  1000\n",
            "Arizona            1000  1000  1000  1000  1000  ...  1000  1000  1000  1000  1000\n",
            "...                 ...   ...   ...   ...   ...  ...   ...   ...   ...   ...   ...\n",
            "Western Kentucky   1000  1000  1000  1000  1000  ...  1000  1000  1000  1000  1000\n",
            "Western Michigan   1000  1000  1000  1000  1000  ...  1000  1000  1000  1000  1000\n",
            "West Virginia      1000  1000  1000  1000  1000  ...  1000  1000  1000  1000  1000\n",
            "Wisconsin          1000  1000  1000  1000  1000  ...  1000  1000  1000  1000  1000\n",
            "Wyoming            1000  1000  1000  1000  1000  ...  1000  1000  1000  1000  1000\n",
            "\n",
            "[130 rows x 16 columns]\n"
          ]
        }
      ]
    },
    {
      "cell_type": "code",
      "source": [
        "for index, row in df.iterrows():\n",
        "  team1 = row[\"home_team\"]\n",
        "  team2 = row[\"away_team\"]\n",
        "  if(team1 not in name or team2 not in name):\n",
        "    continue\n",
        "  elo_1 = elo_table.loc[team1,row[\"week\"]-1]\n",
        "  elo_2 = elo_table.loc[team2,row[\"week\"]-1]\n",
        "\n",
        "  if row[\"neutral_site\"]==\"FALSE\":\n",
        "    elo_1 += 55\n",
        "\n",
        "  elo_diff = elo_1 - elo_2\n",
        "  prob1 = 1/(1 + 10 ** (-elo_diff / 400))\n",
        "  prob2 = 1 - prob1\n",
        "\n",
        "  if row[\"neutral_site\"]==\"FALSE\":\n",
        "    elo_1 -= 55\n",
        "\n",
        "  k = 25\n",
        "  if(row[\"away_points\"] > row[\"home_points\"]):\n",
        "    for i in range(row[\"week\"], 16):\n",
        "      elo_table.loc[(team1, i)] = elo_1 + k*(0 - prob1) ## set k = 25\n",
        "      elo_table.loc[(team2, i)] = elo_2 + k*(1 - prob2) ## set k = 25\n",
        "  else:\n",
        "    for i in range(row[\"week\"], 16):\n",
        "      elo_table.loc[(team1, i)] = elo_1 + k*(1 - prob1) ## set k = 25\n",
        "      elo_table.loc[(team2, i)] = elo_2 + k*(0 - prob2)\n",
        "\n",
        "print(elo_table)"
      ],
      "metadata": {
        "colab": {
          "base_uri": "https://localhost:8080/"
        },
        "id": "STQs-b6lMkeh",
        "outputId": "f7874ce9-2c82-4f14-b4ad-a2e1b5bf0bbe"
      },
      "execution_count": null,
      "outputs": [
        {
          "output_type": "stream",
          "name": "stdout",
          "text": [
            "                     0       1   ...           14           15\n",
            "Air Force          1000  1000.0  ...  1075.931854  1075.931854\n",
            "Akron              1000   987.5  ...   868.131048   868.131048\n",
            "Alabama            1000  1012.5  ...  1067.723398  1067.723398\n",
            "Appalachian State  1000  1000.0  ...  1090.313990  1102.129538\n",
            "Arizona            1000   987.5  ...   945.430441   945.430441\n",
            "...                 ...     ...  ...          ...          ...\n",
            "Western Kentucky   1000  1000.0  ...  1048.866941  1048.866941\n",
            "Western Michigan   1000  1000.0  ...  1007.628860  1007.628860\n",
            "West Virginia      1000  1000.0  ...   974.434685   974.434685\n",
            "Wisconsin          1000  1012.5  ...  1087.092573  1076.095278\n",
            "Wyoming            1000  1012.5  ...  1006.983225  1006.983225\n",
            "\n",
            "[130 rows x 16 columns]\n"
          ]
        }
      ]
    },
    {
      "cell_type": "code",
      "source": [
        "#test pseduo\n",
        "\n",
        "import random, math\n",
        "def test(table, typ):\n",
        "  l = []\n",
        "  for index, row in df.iterrows():\n",
        "    team1 = row[\"home_team\"]\n",
        "    team2 = row[\"away_team\"]\n",
        "    if(team1 not in name or team2 not in name):\n",
        "      continue\n",
        "\n",
        "    if(row[\"week\"] >= 4 and row[\"week\"] < 14):\n",
        "      rand = random.random()\n",
        "      if(rand <= 0.2):\n",
        "        l.append(row)\n",
        "  if(typ == \"my_elo\"):\n",
        "    predict = table.loc[:,15]\n",
        "  else:\n",
        "    predict = table[\"talent\"]\n",
        "  count = 0\n",
        "  for row in l:\n",
        "    team1 = row[\"home_team\"]\n",
        "    team2 = row[\"away_team\"]\n",
        "    point1 = row[\"home_points\"]\n",
        "    point2 = row[\"away_points\"]\n",
        "\n",
        "\n",
        "    if(typ == \"my_elo\"):\n",
        "      elo_1 = predict[team1]\n",
        "      elo_2 = predict[team2]\n",
        "      elo_diff = elo_1 - elo_2\n",
        "      prob1 = 1/(1 + 10 ** (-elo_diff / 400))\n",
        "      if(point1 < point2):\n",
        "          count += math.log(1-prob1)\n",
        "      elif(point1 > point2):\n",
        "          count += math.log(prob1)\n",
        "    else:\n",
        "\n",
        "      if(point1 < point2 and predict[team1] < predict[team2]):\n",
        "        count +=1\n",
        "      elif(point1 > point2 and predict[team1] > predict[team2]):\n",
        "        count += 1\n",
        "\n",
        "  if(typ == \"my_elo\"):\n",
        "    print(-count/len(l))\n",
        "  else:\n",
        "    print(count/len(l))\n",
        "\n",
        "\n",
        "test(elo_table, \"my_elo\")"
      ],
      "metadata": {
        "colab": {
          "base_uri": "https://localhost:8080/"
        },
        "id": "JM7FatEqNNKP",
        "outputId": "7e4f6aff-ffb4-4bd4-d542-99e6d4ed40a0"
      },
      "execution_count": null,
      "outputs": [
        {
          "output_type": "stream",
          "name": "stdout",
          "text": [
            "0.5756480050358982\n"
          ]
        }
      ]
    },
    {
      "cell_type": "code",
      "source": [
        "#basic model\n",
        "#composite ranking? using previous year\n",
        "#elo_table initial ranking   use previous year training (train)\n",
        "#real prob (train) adjust actual - predict(not 0 or 1)\n",
        "#improve actual prob  win-lost?\n",
        "\n",
        "df_talent=pd.read_csv('/content/drive/MyDrive/Sports Analytics/Data/talent_2018.csv')\n",
        "\n",
        "#print(df_talent)\n",
        "#print(name)\n",
        "\n",
        "for i, row in df_talent.iterrows():\n",
        "  if(row[\"school\"] not in name):\n",
        "    df_talent = df_talent.drop(index = i)\n",
        "\n",
        "df_talent = df_talent.reset_index(drop = True)\n",
        "print(df_talent)"
      ],
      "metadata": {
        "id": "JuwDJvBs1wLz",
        "colab": {
          "base_uri": "https://localhost:8080/"
        },
        "outputId": "04cf6ba2-9881-425e-f12b-1213a21b63ce"
      },
      "execution_count": null,
      "outputs": [
        {
          "output_type": "stream",
          "name": "stdout",
          "text": [
            "     year            school  talent\n",
            "0    2018        Ohio State  984.30\n",
            "1    2018           Alabama  978.54\n",
            "2    2018           Georgia  964.00\n",
            "3    2018               USC  933.65\n",
            "4    2018           Clemson  893.21\n",
            "..    ...               ...     ...\n",
            "125  2018  Coastal Carolina  284.24\n",
            "126  2018  New Mexico State  249.32\n",
            "127  2018              Army  230.75\n",
            "128  2018         Air Force  186.27\n",
            "129  2018           Liberty   93.99\n",
            "\n",
            "[130 rows x 3 columns]\n"
          ]
        }
      ]
    },
    {
      "cell_type": "code",
      "source": [
        "index = df_talent[\"school\"].tolist()\n",
        "talent = df_talent[\"talent\"].tolist()\n",
        "df_basic = pd.DataFrame({'talent': talent},\n",
        "                  index=index)\n",
        "test(df_basic, \"\")"
      ],
      "metadata": {
        "colab": {
          "base_uri": "https://localhost:8080/"
        },
        "id": "GOnIs_FAM6HS",
        "outputId": "a1588fe2-581a-4250-f84d-955ee600dcac"
      },
      "execution_count": null,
      "outputs": [
        {
          "output_type": "stream",
          "name": "stdout",
          "text": [
            "0.6444444444444445\n"
          ]
        }
      ]
    },
    {
      "cell_type": "code",
      "source": [
        "from torchvision.datasets import CIFAR10\n",
        "from torchvision.transforms import transforms\n",
        "from torch.utils.data import DataLoader\n",
        "\n",
        "# Loading and normalizing the data.\n",
        "# Define transformations for the training and test sets\n",
        "transformations = transforms.Compose([\n",
        "    transforms.ToTensor(),\n",
        "    transforms.Normalize((0.5, 0.5, 0.5), (0.5, 0.5, 0.5))\n",
        "])\n",
        "\n",
        "# CIFAR10 dataset consists of 50K training images. We define the batch size of 10 to load 5,000 batches of images.\n",
        "batch_size = 10\n",
        "number_of_labels = 10\n",
        "\n",
        "# Create an instance for training.\n",
        "# When we run this code for the first time, the CIFAR10 train dataset will be downloaded locally.\n",
        "train_set =CIFAR10(root=\"./data\",train=True,transform=transformations,download=True)\n",
        "\n",
        "# Create a loader for the training set which will read the data within batch size and put into memory.\n",
        "train_loader = DataLoader(train_set, batch_size=batch_size, shuffle=True, num_workers=0)\n",
        "print(\"The number of images in a training set is: \", len(train_loader)*batch_size)\n",
        "\n",
        "# Create an instance for testing, note that train is set to False.\n",
        "# When we run this code for the first time, the CIFAR10 test dataset will be downloaded locally.\n",
        "test_set = CIFAR10(root=\"./data\", train=False, transform=transformations, download=True)\n",
        "\n",
        "# Create a loader for the test set which will read the data within batch size and put into memory.\n",
        "# Note that each shuffle is set to false for the test loader.\n",
        "test_loader = DataLoader(test_set, batch_size=batch_size, shuffle=False, num_workers=0)\n",
        "print(\"The number of images in a test set is: \", len(test_loader)*batch_size)\n",
        "\n",
        "print(\"The number of batches per epoch is: \", len(train_loader))\n",
        "classes = ('plane', 'car', 'bird', 'cat', 'deer', 'dog', 'frog', 'horse', 'ship', 'truck')"
      ],
      "metadata": {
        "id": "-dwtBFuLJ6Or"
      },
      "execution_count": null,
      "outputs": []
    }
  ]
}